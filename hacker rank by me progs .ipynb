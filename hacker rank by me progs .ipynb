{
 "cells": [
  {
   "cell_type": "markdown",
   "id": "d542ee1d",
   "metadata": {},
   "source": [
    "1. \n",
    "\n",
    " Say \"Hello, World!\" With Python\n",
    "\n",
    "Task:\n",
    "\n",
    "Write a Python program that displays the text:\n",
    "\n",
    "Hello, World!\n",
    "\n",
    "Input Format:\n",
    "\n",
    "No input.\n",
    "\n",
    "Output Format:\n",
    "\n",
    "Print exactly the string \"Hello, World!\".\n",
    "\n",
    "Sample Output:\n",
    "\n",
    "Hello, World!\n",
    "\n"
   ]
  },
  {
   "cell_type": "code",
   "execution_count": 1,
   "id": "91efdb3b",
   "metadata": {},
   "outputs": [
    {
     "name": "stdout",
     "output_type": "stream",
     "text": [
      "Hello, World!\n"
     ]
    }
   ],
   "source": [
    "print(\"Hello, World!\")"
   ]
  },
  {
   "cell_type": "markdown",
   "id": "979917cb",
   "metadata": {},
   "source": [
    "2.\n",
    " Python If-Else\n",
    "\n",
    "Task:\n",
    "\n",
    "Given an integer n, perform the following actions:\n",
    "\n",
    "If n is odd, print \"Weird\".\n",
    "If n is even and between 2 and 5 (inclusive), print \"Not Weird\".\n",
    "If n is even and between 6 and 20 (inclusive), print \"Weird\".\n",
    "If n is even and greater than 20, print \"Not Weird\".\n",
    "\n",
    "Input Format:\n",
    "\n",
    "A single integer n.\n",
    "\n",
    "Constraints:\n",
    "\n",
    "1 ≤ n ≤ 100\n",
    "\n",
    "Sample Input 0:\n",
    "\n",
    "3\n",
    "\n",
    "Sample Output 0:\n",
    "\n",
    "Weird\n",
    "\n",
    "Sample Input 1:\n",
    "\n",
    "24\n",
    "\n",
    "Sample Output 1:\n",
    "\n",
    "Not Weird\n"
   ]
  },
  {
   "cell_type": "code",
   "execution_count": 3,
   "id": "375d46ba",
   "metadata": {},
   "outputs": [
    {
     "name": "stdout",
     "output_type": "stream",
     "text": [
      "5\n",
      "Weird\n"
     ]
    }
   ],
   "source": [
    "num = int(input(\"\"))\n",
    "print(num)\n",
    "if num % 2 == 0:\n",
    "    if 2 <= num <= 5:\n",
    "        print(\"Not Weird\")\n",
    "    elif 6 <= num <= 20:\n",
    "        print(\"Weird\")\n",
    "    elif num > 20:\n",
    "        print(\"Not Weird\")\n",
    "else:\n",
    "    print(\"Weird\")"
   ]
  },
  {
   "cell_type": "markdown",
   "id": "b316087a",
   "metadata": {},
   "source": [
    "3. \n",
    " Arithmetic Operators\n",
    "Task:\n",
    "\n",
    "Given two integers a and b, print:\n",
    "a + b (sum)\n",
    "a - b (difference)\n",
    "a * b (product)\n",
    "\n",
    "Input Format:\n",
    "\n",
    "First line: integer a\n",
    "Second line: integer b\n",
    "\n",
    "Constraints:\n",
    "\n",
    "1 ≤ a ≤ 10**10\n",
    "1 ≤ b ≤ 10**10\n",
    "\n",
    "Output Format:\n",
    "\n",
    "First line: sum\n",
    "Second line: difference\n",
    "Third line: product\n",
    "\n",
    "Sample Input:\n",
    "\n",
    "3\n",
    "2\n",
    "\n",
    "Sample Output:\n",
    "\n",
    "5\n",
    "1\n",
    "6"
   ]
  },
  {
   "cell_type": "code",
   "execution_count": 5,
   "id": "28c447cd",
   "metadata": {},
   "outputs": [
    {
     "name": "stdout",
     "output_type": "stream",
     "text": [
      "9\n",
      "9\n",
      "18\n",
      "0\n",
      "81\n"
     ]
    }
   ],
   "source": [
    "a = int(input())\n",
    "print(a)\n",
    "b = int(input())\n",
    "print(b)\n",
    "print(a + b)\n",
    "print(a - b)\n",
    "print(a * b)\n"
   ]
  },
  {
   "cell_type": "markdown",
   "id": "61c9c599",
   "metadata": {},
   "source": [
    "4.  \n",
    "Python: Division\n",
    "\n",
    "Task:\n",
    "\n",
    "Given two integers a and b, perform:\n",
    "Integer division (a // b)\n",
    "Float division (a / b)\n",
    "\n",
    "Input Format:\n",
    "\n",
    "First line: integer a\n",
    "Second line: integer b\n",
    "\n",
    "Constraints:\n",
    "\n",
    "1 ≤ a ≤ 10**10\n",
    "1 ≤ b ≤ 10**10\n",
    "\n",
    "Sample Input:\n",
    "\n",
    "4\n",
    "3\n",
    "\n",
    "Sample Output:\n",
    "\n",
    "1\n",
    "1.3333333333333333"
   ]
  },
  {
   "cell_type": "code",
   "execution_count": 6,
   "id": "cce40786",
   "metadata": {},
   "outputs": [
    {
     "name": "stdout",
     "output_type": "stream",
     "text": [
      "8\n",
      "8\n",
      "1\n",
      "1.0\n"
     ]
    }
   ],
   "source": [
    "a = int(input())\n",
    "print(a)\n",
    "b = int(input())\n",
    "print(b)\n",
    "ram = a//b\n",
    "sham = a/b\n",
    "print(ram)\n",
    "print(sham)\n"
   ]
  },
  {
   "cell_type": "markdown",
   "id": "eac5f295",
   "metadata": {},
   "source": [
    "5. \n",
    " Loops\n",
    "\n",
    "Task:\n",
    "\n",
    "Given an integer n, print the squares of all integers from 0 to n-1.\n",
    "\n",
    "Input Format:\n",
    "\n",
    "One integer n.\n",
    "\n",
    "Constraints:\n",
    "\n",
    "1 ≤ n ≤ 20\n",
    "\n",
    "Sample Input:\n",
    "\n",
    "5\n",
    "\n",
    "Sample Output:\n",
    "\n",
    "0\n",
    "1\n",
    "4\n",
    "9\n",
    "16\n"
   ]
  },
  {
   "cell_type": "code",
   "execution_count": 7,
   "id": "2beb438a",
   "metadata": {},
   "outputs": [
    {
     "name": "stdout",
     "output_type": "stream",
     "text": [
      "0\n",
      "1\n",
      "4\n",
      "9\n",
      "16\n",
      "25\n",
      "36\n"
     ]
    }
   ],
   "source": [
    "n = int(input())\n",
    "for i in range(n):\n",
    "    print(i ** 2)  \n"
   ]
  },
  {
   "cell_type": "markdown",
   "id": "cb8beb62",
   "metadata": {},
   "source": [
    "6. \n",
    "Write a Function (Leap Year Check)\n",
    "\n",
    "Task:\n",
    "\n",
    "Write a function that checks if a given year is a leap year.\n",
    "A leap year satisfies these rules:\n",
    "If divisible by 4 → might be leap year\n",
    "But if divisible by 100 → not leap year\n",
    "Unless divisible by 400 → leap year\n",
    "\n",
    "Input Format:\n",
    "\n",
    "A single integer year.\n",
    "\n",
    "Constraints:\n",
    "\n",
    "1900 ≤ year ≤ 10**5\n",
    "\n",
    "Output Format:\n",
    "\n",
    "Return True if leap year, else False.\n",
    "\n",
    "Sample Input:\n",
    "\n",
    "1990\n",
    "\n",
    "Sample Output:\n",
    "\n",
    "False"
   ]
  },
  {
   "cell_type": "code",
   "execution_count": 8,
   "id": "7095c8f8",
   "metadata": {},
   "outputs": [
    {
     "name": "stdout",
     "output_type": "stream",
     "text": [
      "False\n"
     ]
    }
   ],
   "source": [
    "def is_leap(year):\n",
    "    if year % 400 == 0:\n",
    "        return True\n",
    "    if year % 4 == 0 and year % 100 != 0:\n",
    "        return True\n",
    "    return False\n",
    "year = int(input())\n",
    "print(is_leap(year))\n"
   ]
  },
  {
   "cell_type": "markdown",
   "id": "a4c62194",
   "metadata": {},
   "source": [
    "7. \n",
    "Print Function\n",
    "\n",
    "Task:\n",
    "Given an integer n, print the sequence of numbers from 1 to n in a single line without spaces between them.\n",
    "\n",
    "Input Format:\n",
    "\n",
    "A single integer n\n",
    "\n",
    "Constraints:\n",
    "\n",
    "1 ≤ n ≤ 150\n",
    "\n",
    "Sample Input:\n",
    "\n",
    "3\n",
    "\n",
    "Sample Output:\n",
    "\n",
    "123"
   ]
  },
  {
   "cell_type": "code",
   "execution_count": 9,
   "id": "1e53aac0",
   "metadata": {},
   "outputs": [
    {
     "name": "stdout",
     "output_type": "stream",
     "text": [
      "1234567"
     ]
    }
   ],
   "source": [
    "n = int(input())\n",
    "for i in range(1, n + 1):\n",
    "    print(i, end=\"\")\n"
   ]
  }
 ],
 "metadata": {
  "kernelspec": {
   "display_name": "Python 3",
   "language": "python",
   "name": "python3"
  },
  "language_info": {
   "codemirror_mode": {
    "name": "ipython",
    "version": 3
   },
   "file_extension": ".py",
   "mimetype": "text/x-python",
   "name": "python",
   "nbconvert_exporter": "python",
   "pygments_lexer": "ipython3",
   "version": "3.11.13"
  }
 },
 "nbformat": 4,
 "nbformat_minor": 5
}
