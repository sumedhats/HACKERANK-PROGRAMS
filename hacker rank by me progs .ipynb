{
 "cells": [
  {
   "cell_type": "markdown",
   "id": "d542ee1d",
   "metadata": {},
   "source": [
    "1. Say \"Hello, World!\" With Python\n",
    "\n",
    "Task:\n",
    "\n",
    "Write a Python program that displays the text:\n",
    "\n",
    "Hello, World!\n",
    "\n",
    "Input Format:\n",
    "\n",
    "No input.\n",
    "\n",
    "Output Format:\n",
    "\n",
    "Print exactly the string \"Hello, World!\".\n",
    "\n",
    "Sample Output:\n",
    "\n",
    "Hello, World!\n",
    "\n"
   ]
  },
  {
   "cell_type": "code",
   "execution_count": null,
   "id": "91efdb3b",
   "metadata": {},
   "outputs": [],
   "source": []
  }
 ],
 "metadata": {
  "language_info": {
   "name": "python"
  }
 },
 "nbformat": 4,
 "nbformat_minor": 5
}
